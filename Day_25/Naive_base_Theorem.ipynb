{
 "cells": [
  {
   "cell_type": "code",
   "execution_count": 26,
   "metadata": {
    "ExecuteTime": {
     "end_time": "2020-08-11T10:29:37.178254Z",
     "start_time": "2020-08-11T10:29:37.154249Z"
    }
   },
   "outputs": [],
   "source": [
    "import pandas as pd \n",
    "import numpy as np\n",
    "import seaborn as sns\n",
    "from sklearn.preprocessing import LabelEncoder\n",
    "from sklearn.model_selection import train_test_split\n",
    "from sklearn.naive_bayes import BernoulliNB\n",
    "from sklearn.metrics import accuracy_score,confusion_matrix\n",
    "from ipywidgets import interact\n",
    "import warnings\n",
    "warnings.filterwarnings(\"ignore\")"
   ]
  },
  {
   "cell_type": "code",
   "execution_count": 65,
   "metadata": {
    "ExecuteTime": {
     "end_time": "2020-08-11T10:42:56.611954Z",
     "start_time": "2020-08-11T10:42:56.563948Z"
    },
    "code_folding": []
   },
   "outputs": [],
   "source": [
    "# Import Data\n",
    "df = pd.read_csv('train.csv')\n",
    "df.drop(columns=['PassengerId','Name','Ticket','Cabin'],axis=1,inplace=True)\n",
    "\n",
    "# Encode\n",
    "encoder = LabelEncoder()\n",
    "df.Sex = encoder.fit_transform(df['Sex'])\n",
    "df.Embarked = encoder.fit_transform(df['Embarked'])\n",
    "\n",
    "# Function \n",
    "\n",
    "def naive_base(X,y):\n",
    "    X_train,X_test,y_train,y_test = train_test_split(X,y,\n",
    "                                                test_size=0.2,\n",
    "                                                random_state=3,)\n",
    "    clf = BernoulliNB()\n",
    "    clf.fit(X_train,y_train)\n",
    "    y_preds = clf.predict(X_test)\n",
    "    print(f'< Naive_base theorem > \\n=======^^^@^^^========\\n Independent_Variables --> {list(X.columns)}\\n Dependent_Variables   --> {list(y.columns)}')\n",
    "    return(f'Accuracy Score : {accuracy_score(y_test,y_preds):.3f}',\n",
    "         confusion_matrix(y_test,y_preds),\n",
    "         sns.heatmap(confusion_matrix(y_test,y_preds),annot=True,linewidths=2, linecolor='yellow'));"
   ]
  },
  {
   "cell_type": "code",
   "execution_count": 66,
   "metadata": {
    "ExecuteTime": {
     "end_time": "2020-08-11T10:42:58.631725Z",
     "start_time": "2020-08-11T10:42:58.116896Z"
    }
   },
   "outputs": [
    {
     "name": "stdout",
     "output_type": "stream",
     "text": [
      "< Naive_base theorem > \n",
      "=======^^^@^^^========\n",
      " Independent_Variables --> ['Survived', 'Sex', 'Age', 'SibSp', 'Parch', 'Fare', 'Embarked']\n",
      " Dependent_Variables   --> ['Pclass']\n"
     ]
    },
    {
     "data": {
      "text/plain": [
       "('Accuracy Score : 0.511',\n",
       " array([[11,  2, 22],\n",
       "        [16,  1, 23],\n",
       "        [22,  2, 79]], dtype=int64),\n",
       " <matplotlib.axes._subplots.AxesSubplot at 0x21ceb31e948>)"
      ]
     },
     "execution_count": 66,
     "metadata": {},
     "output_type": "execute_result"
    },
    {
     "data": {
      "image/png": "[encoded data removed]",
      "text/plain": [
       "<Figure size 432x288 with 2 Axes>"
      ]
     },
     "metadata": {
      "needs_background": "light"
     },
     "output_type": "display_data"
    }
   ],
   "source": [
    "naive_base(X=df.drop('Pclass',axis=1),y=pd.DataFrame(df['Pclass']))"
   ]
  },
  {
   "cell_type": "code",
   "execution_count": 67,
   "metadata": {
    "ExecuteTime": {
     "end_time": "2020-08-11T10:43:17.171668Z",
     "start_time": "2020-08-11T10:43:16.706886Z"
    }
   },
   "outputs": [
    {
     "name": "stdout",
     "output_type": "stream",
     "text": [
      "< Naive_base theorem > \n",
      "=======^^^@^^^========\n",
      " Independent_Variables --> ['Survived', 'Pclass', 'Age', 'SibSp', 'Parch', 'Fare', 'Embarked']\n",
      " Dependent_Variables   --> ['Sex']\n"
     ]
    },
    {
     "data": {
      "text/plain": [
       "('Accuracy Score : 0.798',\n",
       " array([[ 40,   9],\n",
       "        [ 27, 102]], dtype=int64),\n",
       " <matplotlib.axes._subplots.AxesSubplot at 0x21ceb517f48>)"
      ]
     },
     "execution_count": 67,
     "metadata": {},
     "output_type": "execute_result"
    },
    {
     "data": {
      "image/png": "[encoded data removed]",
      "text/plain": [
       "<Figure size 432x288 with 2 Axes>"
      ]
     },
     "metadata": {
      "needs_background": "light"
     },
     "output_type": "display_data"
    }
   ],
   "source": [
    "naive_base(X=df.drop('Sex',axis=1),y=pd.DataFrame(df['Sex']))"
   ]
  },
  {
   "cell_type": "code",
   "execution_count": 68,
   "metadata": {
    "ExecuteTime": {
     "end_time": "2020-08-11T10:43:18.513256Z",
     "start_time": "2020-08-11T10:43:17.746133Z"
    }
   },
   "outputs": [
    {
     "name": "stdout",
     "output_type": "stream",
     "text": [
      "< Naive_base theorem > \n",
      "=======^^^@^^^========\n",
      " Independent_Variables --> ['Survived', 'Pclass', 'Sex', 'Age', 'Parch', 'Fare', 'Embarked']\n",
      " Dependent_Variables   --> ['SibSp']\n"
     ]
    },
    {
     "data": {
      "text/plain": [
       "('Accuracy Score : 0.691',\n",
       " array([[111,  11,   0,   0,   0,   0],\n",
       "        [ 29,  12,   0,   0,   0,   0],\n",
       "        [  4,   3,   0,   0,   0,   0],\n",
       "        [  3,   0,   0,   0,   0,   0],\n",
       "        [  3,   1,   0,   0,   0,   0],\n",
       "        [  1,   0,   0,   0,   0,   0]], dtype=int64),\n",
       " <matplotlib.axes._subplots.AxesSubplot at 0x21ceb48af08>)"
      ]
     },
     "execution_count": 68,
     "metadata": {},
     "output_type": "execute_result"
    },
    {
     "data": {
      "image/png": "[encoded data removed]",
      "text/plain": [
       "<Figure size 432x288 with 2 Axes>"
      ]
     },
     "metadata": {
      "needs_background": "light"
     },
     "output_type": "display_data"
    }
   ],
   "source": [
    "naive_base(X=df.drop('SibSp',axis=1),y=pd.DataFrame(df['SibSp']))"
   ]
  },
  {
   "cell_type": "code",
   "execution_count": 69,
   "metadata": {
    "ExecuteTime": {
     "end_time": "2020-08-11T10:43:19.288184Z",
     "start_time": "2020-08-11T10:43:18.593260Z"
    }
   },
   "outputs": [
    {
     "name": "stdout",
     "output_type": "stream",
     "text": [
      "< Naive_base theorem > \n",
      "=======^^^@^^^========\n",
      " Independent_Variables --> ['Survived', 'Pclass', 'Sex', 'Age', 'SibSp', 'Fare', 'Embarked']\n",
      " Dependent_Variables   --> ['Parch']\n"
     ]
    },
    {
     "data": {
      "text/plain": [
       "('Accuracy Score : 0.747',\n",
       " array([[127,  10,   0,   0,   0],\n",
       "        [ 17,   6,   0,   0,   0],\n",
       "        [ 12,   3,   0,   0,   0],\n",
       "        [  1,   0,   0,   0,   0],\n",
       "        [  2,   0,   0,   0,   0]], dtype=int64),\n",
       " <matplotlib.axes._subplots.AxesSubplot at 0x21ceb06ac08>)"
      ]
     },
     "execution_count": 69,
     "metadata": {},
     "output_type": "execute_result"
    },
    {
     "data": {
      "image/png": "[encoded data removed]",
      "text/plain": [
       "<Figure size 432x288 with 2 Axes>"
      ]
     },
     "metadata": {
      "needs_background": "light"
     },
     "output_type": "display_data"
    }
   ],
   "source": [
    "naive_base(X=df.drop('Parch',axis=1),y=pd.DataFrame(df['Parch']))"
   ]
  },
  {
   "cell_type": "code",
   "execution_count": 70,
   "metadata": {
    "ExecuteTime": {
     "end_time": "2020-08-11T10:43:19.957244Z",
     "start_time": "2020-08-11T10:43:19.360195Z"
    }
   },
   "outputs": [
    {
     "name": "stdout",
     "output_type": "stream",
     "text": [
      "< Naive_base theorem > \n",
      "=======^^^@^^^========\n",
      " Independent_Variables --> ['Survived', 'Pclass', 'Sex', 'Age', 'SibSp', 'Parch', 'Fare']\n",
      " Dependent_Variables   --> ['Embarked']\n"
     ]
    },
    {
     "data": {
      "text/plain": [
       "('Accuracy Score : 0.736',\n",
       " array([[  0,   0,  31],\n",
       "        [  0,   0,  16],\n",
       "        [  0,   0, 131]], dtype=int64),\n",
       " <matplotlib.axes._subplots.AxesSubplot at 0x21cead07a08>)"
      ]
     },
     "execution_count": 70,
     "metadata": {},
     "output_type": "execute_result"
    },
    {
     "data": {
      "image/png": "[encoded data removed]",
      "text/plain": [
       "<Figure size 432x288 with 2 Axes>"
      ]
     },
     "metadata": {
      "needs_background": "light"
     },
     "output_type": "display_data"
    }
   ],
   "source": [
    "naive_base(X=df.drop('Embarked',axis=1),y=pd.DataFrame(df['Embarked']))"
   ]
  }
 ],
 "metadata": {
  "hide_input": false,
  "kernelspec": {
   "display_name": "Python 3",
   "language": "python",
   "name": "python3"
  },
  "language_info": {
   "codemirror_mode": {
    "name": "ipython",
    "version": 3
   },
   "file_extension": ".py",
   "mimetype": "text/x-python",
   "name": "python",
   "nbconvert_exporter": "python",
   "pygments_lexer": "ipython3",
   "version": "3.7.6"
  },
  "toc": {
   "base_numbering": 1,
   "nav_menu": {},
   "number_sections": true,
   "sideBar": true,
   "skip_h1_title": false,
   "title_cell": "Table of Contents",
   "title_sidebar": "Contents",
   "toc_cell": false,
   "toc_position": {},
   "toc_section_display": true,
   "toc_window_display": false
  },
  "varInspector": {
   "cols": {
    "lenName": 16,
    "lenType": 16,
    "lenVar": 40
   },
   "kernels_config": {
    "python": {
     "delete_cmd_postfix": "",
     "delete_cmd_prefix": "del ",
     "library": "var_list.py",
     "varRefreshCmd": "print(var_dic_list())"
    },
    "r": {
     "delete_cmd_postfix": ") ",
     "delete_cmd_prefix": "rm(",
     "library": "var_list.r",
     "varRefreshCmd": "cat(var_dic_list()) "
    }
   },
   "types_to_exclude": [
    "module",
    "function",
    "builtin_function_or_method",
    "instance",
    "_Feature"
   ],
   "window_display": false
  }
 },
 "nbformat": 4,
 "nbformat_minor": 4
}
